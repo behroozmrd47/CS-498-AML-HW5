{
 "cells": [
  {
   "cell_type": "markdown",
   "metadata": {},
   "source": [
    "# 7.10. \n",
    "#### At http://www.statsci.org/data/oz/physical.html, you will find a dataset of measurements by M. Larner, made in 1996. These measurements include body mass, and various diameters. Build a linear regression of predicting the body mass from these diameters.\n",
    "* Plot the residual against the fitted values for your regression.\n",
    "* Now regress the cube root of mass against these diameters. Plot the\n",
    "residual against the fitted values in both these cube root coordinates and\n",
    "in the original coordinates.\n",
    "* Use your plots to explain which regression is better."
   ]
  },
  {
   "cell_type": "code",
   "execution_count": 2,
   "metadata": {
    "collapsed": true
   },
   "outputs": [],
   "source": [
    "import pandas as pd\n",
    "import numpy as np\n",
    "import matplotlib\n",
    "import matplotlib.pylab as plt\n",
    "# import statsmodels.api as sm\n",
    "from scipy.stats import linregress\n",
    "\n",
    "%matplotlib inline"
   ]
  },
  {
   "cell_type": "code",
   "execution_count": 3,
   "metadata": {},
   "outputs": [
    {
     "data": {
      "text/html": [
       "<div>\n",
       "<style>\n",
       "    .dataframe thead tr:only-child th {\n",
       "        text-align: right;\n",
       "    }\n",
       "\n",
       "    .dataframe thead th {\n",
       "        text-align: left;\n",
       "    }\n",
       "\n",
       "    .dataframe tbody tr th {\n",
       "        vertical-align: top;\n",
       "    }\n",
       "</style>\n",
       "<table border=\"1\" class=\"dataframe\">\n",
       "  <thead>\n",
       "    <tr style=\"text-align: right;\">\n",
       "      <th></th>\n",
       "      <th>Mass</th>\n",
       "      <th>Fore</th>\n",
       "      <th>Bicep</th>\n",
       "      <th>Chest</th>\n",
       "      <th>Neck</th>\n",
       "      <th>Shoulder</th>\n",
       "      <th>Waist</th>\n",
       "      <th>Height</th>\n",
       "      <th>Calf</th>\n",
       "      <th>Thigh</th>\n",
       "      <th>Head</th>\n",
       "    </tr>\n",
       "  </thead>\n",
       "  <tbody>\n",
       "    <tr>\n",
       "      <th>0</th>\n",
       "      <td>77.0</td>\n",
       "      <td>28.5</td>\n",
       "      <td>33.5</td>\n",
       "      <td>100.0</td>\n",
       "      <td>38.5</td>\n",
       "      <td>114.0</td>\n",
       "      <td>85.0</td>\n",
       "      <td>178.0</td>\n",
       "      <td>37.5</td>\n",
       "      <td>53.0</td>\n",
       "      <td>58.0</td>\n",
       "    </tr>\n",
       "    <tr>\n",
       "      <th>1</th>\n",
       "      <td>85.5</td>\n",
       "      <td>29.5</td>\n",
       "      <td>36.5</td>\n",
       "      <td>107.0</td>\n",
       "      <td>39.0</td>\n",
       "      <td>119.0</td>\n",
       "      <td>90.5</td>\n",
       "      <td>187.0</td>\n",
       "      <td>40.0</td>\n",
       "      <td>52.0</td>\n",
       "      <td>59.0</td>\n",
       "    </tr>\n",
       "    <tr>\n",
       "      <th>2</th>\n",
       "      <td>63.0</td>\n",
       "      <td>25.0</td>\n",
       "      <td>31.0</td>\n",
       "      <td>94.0</td>\n",
       "      <td>36.5</td>\n",
       "      <td>102.0</td>\n",
       "      <td>80.5</td>\n",
       "      <td>175.0</td>\n",
       "      <td>33.0</td>\n",
       "      <td>49.0</td>\n",
       "      <td>57.0</td>\n",
       "    </tr>\n",
       "    <tr>\n",
       "      <th>3</th>\n",
       "      <td>80.5</td>\n",
       "      <td>28.5</td>\n",
       "      <td>34.0</td>\n",
       "      <td>104.0</td>\n",
       "      <td>39.0</td>\n",
       "      <td>114.0</td>\n",
       "      <td>91.5</td>\n",
       "      <td>183.0</td>\n",
       "      <td>38.0</td>\n",
       "      <td>50.0</td>\n",
       "      <td>60.0</td>\n",
       "    </tr>\n",
       "    <tr>\n",
       "      <th>4</th>\n",
       "      <td>79.5</td>\n",
       "      <td>28.5</td>\n",
       "      <td>36.5</td>\n",
       "      <td>107.0</td>\n",
       "      <td>39.0</td>\n",
       "      <td>114.0</td>\n",
       "      <td>92.0</td>\n",
       "      <td>174.0</td>\n",
       "      <td>40.0</td>\n",
       "      <td>53.0</td>\n",
       "      <td>59.0</td>\n",
       "    </tr>\n",
       "  </tbody>\n",
       "</table>\n",
       "</div>"
      ],
      "text/plain": [
       "   Mass  Fore  Bicep  Chest  Neck  Shoulder  Waist  Height  Calf  Thigh  Head\n",
       "0  77.0  28.5   33.5  100.0  38.5     114.0   85.0   178.0  37.5   53.0  58.0\n",
       "1  85.5  29.5   36.5  107.0  39.0     119.0   90.5   187.0  40.0   52.0  59.0\n",
       "2  63.0  25.0   31.0   94.0  36.5     102.0   80.5   175.0  33.0   49.0  57.0\n",
       "3  80.5  28.5   34.0  104.0  39.0     114.0   91.5   183.0  38.0   50.0  60.0\n",
       "4  79.5  28.5   36.5  107.0  39.0     114.0   92.0   174.0  40.0   53.0  59.0"
      ]
     },
     "execution_count": 3,
     "metadata": {},
     "output_type": "execute_result"
    }
   ],
   "source": [
    "df2 = pd.read_table('physical.txt')\n",
    "df2.head()"
   ]
  },
  {
   "cell_type": "code",
   "execution_count": 4,
   "metadata": {},
   "outputs": [
    {
     "data": {
      "text/html": [
       "<div>\n",
       "<style>\n",
       "    .dataframe thead tr:only-child th {\n",
       "        text-align: right;\n",
       "    }\n",
       "\n",
       "    .dataframe thead th {\n",
       "        text-align: left;\n",
       "    }\n",
       "\n",
       "    .dataframe tbody tr th {\n",
       "        vertical-align: top;\n",
       "    }\n",
       "</style>\n",
       "<table border=\"1\" class=\"dataframe\">\n",
       "  <thead>\n",
       "    <tr style=\"text-align: right;\">\n",
       "      <th></th>\n",
       "      <th>Fore</th>\n",
       "      <th>Bicep</th>\n",
       "      <th>Chest</th>\n",
       "      <th>Neck</th>\n",
       "      <th>Shoulder</th>\n",
       "      <th>Waist</th>\n",
       "      <th>Height</th>\n",
       "      <th>Calf</th>\n",
       "      <th>Thigh</th>\n",
       "      <th>Head</th>\n",
       "    </tr>\n",
       "  </thead>\n",
       "  <tbody>\n",
       "    <tr>\n",
       "      <th>0</th>\n",
       "      <td>28.5</td>\n",
       "      <td>33.5</td>\n",
       "      <td>100.0</td>\n",
       "      <td>38.5</td>\n",
       "      <td>114.0</td>\n",
       "      <td>85.0</td>\n",
       "      <td>178.0</td>\n",
       "      <td>37.5</td>\n",
       "      <td>53.0</td>\n",
       "      <td>58.0</td>\n",
       "    </tr>\n",
       "    <tr>\n",
       "      <th>1</th>\n",
       "      <td>29.5</td>\n",
       "      <td>36.5</td>\n",
       "      <td>107.0</td>\n",
       "      <td>39.0</td>\n",
       "      <td>119.0</td>\n",
       "      <td>90.5</td>\n",
       "      <td>187.0</td>\n",
       "      <td>40.0</td>\n",
       "      <td>52.0</td>\n",
       "      <td>59.0</td>\n",
       "    </tr>\n",
       "    <tr>\n",
       "      <th>2</th>\n",
       "      <td>25.0</td>\n",
       "      <td>31.0</td>\n",
       "      <td>94.0</td>\n",
       "      <td>36.5</td>\n",
       "      <td>102.0</td>\n",
       "      <td>80.5</td>\n",
       "      <td>175.0</td>\n",
       "      <td>33.0</td>\n",
       "      <td>49.0</td>\n",
       "      <td>57.0</td>\n",
       "    </tr>\n",
       "    <tr>\n",
       "      <th>3</th>\n",
       "      <td>28.5</td>\n",
       "      <td>34.0</td>\n",
       "      <td>104.0</td>\n",
       "      <td>39.0</td>\n",
       "      <td>114.0</td>\n",
       "      <td>91.5</td>\n",
       "      <td>183.0</td>\n",
       "      <td>38.0</td>\n",
       "      <td>50.0</td>\n",
       "      <td>60.0</td>\n",
       "    </tr>\n",
       "    <tr>\n",
       "      <th>4</th>\n",
       "      <td>28.5</td>\n",
       "      <td>36.5</td>\n",
       "      <td>107.0</td>\n",
       "      <td>39.0</td>\n",
       "      <td>114.0</td>\n",
       "      <td>92.0</td>\n",
       "      <td>174.0</td>\n",
       "      <td>40.0</td>\n",
       "      <td>53.0</td>\n",
       "      <td>59.0</td>\n",
       "    </tr>\n",
       "  </tbody>\n",
       "</table>\n",
       "</div>"
      ],
      "text/plain": [
       "   Fore  Bicep  Chest  Neck  Shoulder  Waist  Height  Calf  Thigh  Head\n",
       "0  28.5   33.5  100.0  38.5     114.0   85.0   178.0  37.5   53.0  58.0\n",
       "1  29.5   36.5  107.0  39.0     119.0   90.5   187.0  40.0   52.0  59.0\n",
       "2  25.0   31.0   94.0  36.5     102.0   80.5   175.0  33.0   49.0  57.0\n",
       "3  28.5   34.0  104.0  39.0     114.0   91.5   183.0  38.0   50.0  60.0\n",
       "4  28.5   36.5  107.0  39.0     114.0   92.0   174.0  40.0   53.0  59.0"
      ]
     },
     "execution_count": 4,
     "metadata": {},
     "output_type": "execute_result"
    }
   ],
   "source": [
    "y = df2.Mass\n",
    "X = df2.drop('Mass', axis=1)\n",
    "X.head()"
   ]
  },
  {
   "cell_type": "code",
   "execution_count": 5,
   "metadata": {
    "collapsed": true
   },
   "outputs": [],
   "source": [
    "from sklearn.linear_model import LinearRegression"
   ]
  },
  {
   "cell_type": "code",
   "execution_count": 6,
   "metadata": {},
   "outputs": [
    {
     "data": {
      "text/plain": [
       "0    -1.580892\n",
       "1    -0.500839\n",
       "2    -0.230191\n",
       "3    -1.106940\n",
       "4     1.021275\n",
       "5     0.032598\n",
       "6    -1.233566\n",
       "7     0.383665\n",
       "8    -1.583243\n",
       "9     2.552344\n",
       "10    0.922092\n",
       "11   -0.512786\n",
       "12    1.646161\n",
       "13    2.105368\n",
       "14    2.329716\n",
       "15    0.830325\n",
       "16   -0.878907\n",
       "17    0.897981\n",
       "18   -0.124727\n",
       "19   -2.407698\n",
       "20   -4.171882\n",
       "21    1.610145\n",
       "Name: Mass, dtype: float64"
      ]
     },
     "execution_count": 6,
     "metadata": {},
     "output_type": "execute_result"
    }
   ],
   "source": [
    "lm = LinearRegression()\n",
    "lm.fit(X, y)\n",
    "residual = lm.predict(X) - y\n",
    "residual"
   ]
  },
  {
   "cell_type": "code",
   "execution_count": 7,
   "metadata": {},
   "outputs": [
    {
     "data": {
      "text/plain": [
       "<matplotlib.collections.PathCollection at 0x11293e518>"
      ]
     },
     "execution_count": 7,
     "metadata": {},
     "output_type": "execute_result"
    },
    {
     "data": {
      "image/png": "[encoded data removed]",
      "text/plain": [
       "<matplotlib.figure.Figure at 0x108761a58>"
      ]
     },
     "metadata": {},
     "output_type": "display_data"
    }
   ],
   "source": [
    "plt.scatter(lm.predict(X), residual)"
   ]
  },
  {
   "cell_type": "code",
   "execution_count": null,
   "metadata": {
    "collapsed": true
   },
   "outputs": [],
   "source": []
  }
 ],
 "metadata": {
  "kernelspec": {
   "display_name": "Python 3",
   "language": "python",
   "name": "python3"
  },
  "language_info": {
   "codemirror_mode": {
    "name": "ipython",
    "version": 3
   },
   "file_extension": ".py",
   "mimetype": "text/x-python",
   "name": "python",
   "nbconvert_exporter": "python",
   "pygments_lexer": "ipython3",
   "version": "3.6.3"
  }
 },
 "nbformat": 4,
 "nbformat_minor": 2
}
